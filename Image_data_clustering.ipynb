{
 "cells": [
  {
   "cell_type": "code",
   "execution_count": null,
   "id": "10ec013e",
   "metadata": {},
   "outputs": [],
   "source": [
    "import pandas as pd\n",
    "import numpy as np\n",
    "import random as rd"
   ]
  },
  {
   "cell_type": "code",
   "execution_count": null,
   "id": "d2afea1f",
   "metadata": {},
   "outputs": [],
   "source": [
    "data = pd.read_csv(\"Path to data\", header=None, delimiter=\",\")\n",
    "data.shape"
   ]
  },
  {
   "cell_type": "code",
   "execution_count": null,
   "id": "a8adfc05",
   "metadata": {},
   "outputs": [],
   "source": [
    "# Normalising the data\n",
    "\n",
    "from sklearn.preprocessing import Normalizer\n",
    "data = Normalizer().fit_transform(data)"
   ]
  },
  {
   "cell_type": "code",
   "execution_count": null,
   "id": "b38f4abf",
   "metadata": {},
   "outputs": [],
   "source": [
    "# Dimentionality Reduction using PCA\n",
    "\n",
    "# from sklearn.decomposition import PCA\n",
    "\n",
    "# x = PCA(2).fit(data)\n",
    "# data = x.transform(data)"
   ]
  },
  {
   "cell_type": "code",
   "execution_count": null,
   "id": "6714cb4a",
   "metadata": {},
   "outputs": [],
   "source": [
    "# Dimentionality Reduction using t-SNE\n",
    "\n",
    "from sklearn.manifold import TSNE\n",
    "data = TSNE().fit_transform(data)  "
   ]
  },
  {
   "cell_type": "code",
   "execution_count": null,
   "id": "ca43043a",
   "metadata": {},
   "outputs": [],
   "source": [
    "data = pd.DataFrame(data)"
   ]
  },
  {
   "cell_type": "code",
   "execution_count": null,
   "id": "19bab4fe",
   "metadata": {},
   "outputs": [],
   "source": [
    "data"
   ]
  },
  {
   "cell_type": "code",
   "execution_count": null,
   "id": "56a2d549",
   "metadata": {},
   "outputs": [],
   "source": [
    "# No of Clusters\n",
    "\n",
    "k = 10"
   ]
  },
  {
   "cell_type": "code",
   "execution_count": null,
   "id": "3b090550",
   "metadata": {},
   "outputs": [],
   "source": [
    "# Selecting Random Centroids\n",
    "\n",
    "centroids = data.sample(n=k)"
   ]
  },
  {
   "cell_type": "markdown",
   "id": "9f7f0129",
   "metadata": {},
   "source": [
    "<h2>KMeans Clustering</h2>"
   ]
  },
  {
   "cell_type": "code",
   "execution_count": null,
   "id": "21dfba9a",
   "metadata": {},
   "outputs": [],
   "source": [
    "from sklearn.metrics.pairwise import cosine_distances\n",
    "from sklearn.metrics.pairwise import euclidean_distances\n",
    "\n",
    "def KMeans(data, centroids, dist_measure):\n",
    "    diff = 0\n",
    "    while True:\n",
    "        if dist_measure == \"euclidean\":\n",
    "            distances = euclidean_distances(data, centroids)\n",
    "        elif dist_measure == \"cosine\":\n",
    "            distances = cosine_distances(data, centroids)\n",
    "        else: \n",
    "            print(\"Select either Euclidean or Cosine distance measure\")\n",
    "        labels = np.argmin(distances, axis=1)\n",
    "        labeled_data = pd.DataFrame(np.concatenate([data, labels.reshape(-1, 1)], axis=1))\n",
    "        updated_centroids = labeled_data.groupby(labeled_data.columns[-1]).mean().values\n",
    "        if np.all(np.array(centroids) == updated_centroids):\n",
    "            break\n",
    "\n",
    "        centroids = pd.DataFrame(updated_centroids)\n",
    "        diff += 1\n",
    "    return labels, centroids"
   ]
  },
  {
   "cell_type": "code",
   "execution_count": null,
   "id": "266299a4",
   "metadata": {},
   "outputs": [],
   "source": [
    "labels, centroids = KMeans(data, centroids, 'euclidean')"
   ]
  },
  {
   "cell_type": "code",
   "execution_count": null,
   "id": "4663604a",
   "metadata": {},
   "outputs": [],
   "source": [
    "#Method to write to file\n",
    "def write_to_file(predictions):\n",
    "    with open('Path', 'w') as log:\n",
    "        for x in predictions:\n",
    "            log.write(str(x)+'\\n')"
   ]
  },
  {
   "cell_type": "code",
   "execution_count": null,
   "id": "3bef8a5b",
   "metadata": {},
   "outputs": [],
   "source": [
    "write_to_file(labels)"
   ]
  },
  {
   "cell_type": "markdown",
   "id": "13edaf50",
   "metadata": {},
   "source": [
    "<h2>Metric Measure</h2>"
   ]
  },
  {
   "cell_type": "code",
   "execution_count": null,
   "id": "fe682f4f",
   "metadata": {},
   "outputs": [],
   "source": [
    "from sklearn.metrics import davies_bouldin_score, silhouette_score\n",
    "\n",
    "silhouette_scores = list()\n",
    "k_values = list()\n",
    "for i in range(2, 21, 2):\n",
    "    k_values.append(i)\n",
    "    centroids = data.sample(n=i)\n",
    "    labels, centroids = KMeans(data, centroids, 'euclidean')\n",
    "    silhouette_scores.append(silhouette_score(data, labels))"
   ]
  },
  {
   "cell_type": "code",
   "execution_count": null,
   "id": "c178ad11",
   "metadata": {},
   "outputs": [],
   "source": [
    "#Plot of Silhouette Metric\n",
    "\n",
    "import matplotlib.pyplot as plt\n",
    "plt.plot(k_values, silhouette_scores, marker='o', label=\"Silhouette Scores\")"
   ]
  },
  {
   "cell_type": "code",
   "execution_count": null,
   "id": "a27b5f87",
   "metadata": {},
   "outputs": [],
   "source": []
  }
 ],
 "metadata": {
  "kernelspec": {
   "display_name": "Venv DM",
   "language": "python",
   "name": "venv_dm"
  },
  "language_info": {
   "codemirror_mode": {
    "name": "ipython",
    "version": 3
   },
   "file_extension": ".py",
   "mimetype": "text/x-python",
   "name": "python",
   "nbconvert_exporter": "python",
   "pygments_lexer": "ipython3",
   "version": "3.7.6"
  }
 },
 "nbformat": 4,
 "nbformat_minor": 5
}
